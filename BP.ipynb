{
 "cells": [
  {
   "cell_type": "code",
   "execution_count": 25,
   "metadata": {},
   "outputs": [],
   "source": [
    "import numpy as np\n",
    "import pandas as pd\n",
    "import matplotlib.pyplot as plt\n",
    "#导入必要的库"
   ]
  },
  {
   "cell_type": "code",
   "execution_count": 26,
   "metadata": {},
   "outputs": [
    {
     "data": {
      "text/html": [
       "<div>\n",
       "<style scoped>\n",
       "    .dataframe tbody tr th:only-of-type {\n",
       "        vertical-align: middle;\n",
       "    }\n",
       "\n",
       "    .dataframe tbody tr th {\n",
       "        vertical-align: top;\n",
       "    }\n",
       "\n",
       "    .dataframe thead th {\n",
       "        text-align: right;\n",
       "    }\n",
       "</style>\n",
       "<table border=\"1\" class=\"dataframe\">\n",
       "  <thead>\n",
       "    <tr style=\"text-align: right;\">\n",
       "      <th></th>\n",
       "      <th>open</th>\n",
       "      <th>low</th>\n",
       "      <th>close</th>\n",
       "      <th>high</th>\n",
       "    </tr>\n",
       "  </thead>\n",
       "  <tbody>\n",
       "    <tr>\n",
       "      <th>26272</th>\n",
       "      <td>7.1042</td>\n",
       "      <td>7.1042</td>\n",
       "      <td>7.1048</td>\n",
       "      <td>7.1055</td>\n",
       "    </tr>\n",
       "    <tr>\n",
       "      <th>26273</th>\n",
       "      <td>7.1047</td>\n",
       "      <td>7.1038</td>\n",
       "      <td>7.1038</td>\n",
       "      <td>7.1047</td>\n",
       "    </tr>\n",
       "    <tr>\n",
       "      <th>26274</th>\n",
       "      <td>7.1039</td>\n",
       "      <td>7.1039</td>\n",
       "      <td>7.1046</td>\n",
       "      <td>7.1047</td>\n",
       "    </tr>\n",
       "    <tr>\n",
       "      <th>26275</th>\n",
       "      <td>7.1048</td>\n",
       "      <td>7.1043</td>\n",
       "      <td>7.1045</td>\n",
       "      <td>7.1049</td>\n",
       "    </tr>\n",
       "    <tr>\n",
       "      <th>26276</th>\n",
       "      <td>7.1049</td>\n",
       "      <td>7.1049</td>\n",
       "      <td>7.1057</td>\n",
       "      <td>7.1057</td>\n",
       "    </tr>\n",
       "  </tbody>\n",
       "</table>\n",
       "</div>"
      ],
      "text/plain": [
       "         open     low   close    high\n",
       "26272  7.1042  7.1042  7.1048  7.1055\n",
       "26273  7.1047  7.1038  7.1038  7.1047\n",
       "26274  7.1039  7.1039  7.1046  7.1047\n",
       "26275  7.1048  7.1043  7.1045  7.1049\n",
       "26276  7.1049  7.1049  7.1057  7.1057"
      ]
     },
     "execution_count": 26,
     "metadata": {},
     "output_type": "execute_result"
    }
   ],
   "source": [
    "#读取数据\n",
    "df1=pd.read_csv('data.csv') \n",
    "df1=df1.iloc[:,2:]\n",
    "df1.tail()"
   ]
  },
  {
   "cell_type": "code",
   "execution_count": 27,
   "metadata": {},
   "outputs": [
    {
     "name": "stdout",
     "output_type": "stream",
     "text": [
      "(26277, 3)\n",
      "(26277,)\n"
     ]
    }
   ],
   "source": [
    "#进行数据归一化\n",
    "from sklearn import preprocessing\n",
    "min_max_scaler = preprocessing.MinMaxScaler()\n",
    "df0=min_max_scaler.fit_transform(df1)\n",
    "df = pd.DataFrame(df0, columns=df1.columns)\n",
    "X=df.iloc[:,:-1]\n",
    "y=df.iloc[:,-1]\n",
    "print(X.shape)\n",
    "print(y.shape)"
   ]
  },
  {
   "cell_type": "code",
   "execution_count": 28,
   "metadata": {},
   "outputs": [
    {
     "name": "stdout",
     "output_type": "stream",
     "text": [
      "70950\n",
      "7881\n",
      "23650\n",
      "2627\n"
     ]
    }
   ],
   "source": [
    "#构造训练集测试集 \n",
    "y=pd.DataFrame(y.values,columns=['target'])\n",
    "x=X\n",
    "input_size=len(x.iloc[1,:])\n",
    "cut=len(y)//10#取最后cut=10天为测试集\n",
    "X_train, X_test=x.iloc[:-cut],x.iloc[-cut:]#列表的切片操作\n",
    "y_train, y_test=y.iloc[:-cut],y.iloc[-cut:]\n",
    "X_train,X_test,y_train,y_test=X_train.values,X_test.values,y_train.values,y_test.values\n",
    "x.iloc[:-cut]\n",
    "print(X_train.size)#通过输出训练集测试集的大小来判断数据格式正确。\n",
    "print(X_test.size)\n",
    "print(y_train.size)\n",
    "print(y_test.size)"
   ]
  },
  {
   "cell_type": "code",
   "execution_count": 29,
   "metadata": {},
   "outputs": [
    {
     "name": "stderr",
     "output_type": "stream",
     "text": [
      "E:\\anoconda\\lib\\site-packages\\ipykernel_launcher.py:6: UserWarning: Update your `Dense` call to the Keras 2 API: `Dense(16, input_dim=3, kernel_initializer=\"uniform\")`\n",
      "  \n",
      "E:\\anoconda\\lib\\site-packages\\ipykernel_launcher.py:8: UserWarning: Update your `Dense` call to the Keras 2 API: `Dense(4, kernel_initializer=\"uniform\")`\n",
      "  \n",
      "E:\\anoconda\\lib\\site-packages\\ipykernel_launcher.py:12: UserWarning: The `nb_epoch` argument in `fit` has been renamed `epochs`.\n",
      "  if sys.path[0] == '':\n"
     ]
    },
    {
     "name": "stdout",
     "output_type": "stream",
     "text": [
      "Epoch 1/50\n",
      "23650/23650 [==============================] - 0s 15us/step - loss: 0.2026\n",
      "Epoch 2/50\n",
      "23650/23650 [==============================] - 0s 6us/step - loss: 0.0248\n",
      "Epoch 3/50\n",
      "23650/23650 [==============================] - 0s 7us/step - loss: 0.0127\n",
      "Epoch 4/50\n",
      "23650/23650 [==============================] - 0s 8us/step - loss: 0.0085\n",
      "Epoch 5/50\n",
      "23650/23650 [==============================] - 0s 7us/step - loss: 0.0048\n",
      "Epoch 6/50\n",
      "23650/23650 [==============================] - 0s 6us/step - loss: 0.0023\n",
      "Epoch 7/50\n",
      "23650/23650 [==============================] - 0s 5us/step - loss: 8.6696e-04\n",
      "Epoch 8/50\n",
      "23650/23650 [==============================] - 0s 6us/step - loss: 2.7231e-04\n",
      "Epoch 9/50\n",
      "23650/23650 [==============================] - 0s 5us/step - loss: 8.1726e-05\n",
      "Epoch 10/50\n",
      "23650/23650 [==============================] - 0s 7us/step - loss: 3.1396e-05\n",
      "Epoch 11/50\n",
      "23650/23650 [==============================] - 0s 6us/step - loss: 2.0191e-05\n",
      "Epoch 12/50\n",
      "23650/23650 [==============================] - 0s 6us/step - loss: 1.7813e-05\n",
      "Epoch 13/50\n",
      "23650/23650 [==============================] - 0s 6us/step - loss: 1.7124e-05\n",
      "Epoch 14/50\n",
      "23650/23650 [==============================] - 0s 8us/step - loss: 1.6705e-05\n",
      "Epoch 15/50\n",
      "23650/23650 [==============================] - 0s 6us/step - loss: 1.6323e-05\n",
      "Epoch 16/50\n",
      "23650/23650 [==============================] - 0s 6us/step - loss: 1.5953e-05\n",
      "Epoch 17/50\n",
      "23650/23650 [==============================] - 0s 6us/step - loss: 1.5589e-05\n",
      "Epoch 18/50\n",
      "23650/23650 [==============================] - 0s 6us/step - loss: 1.5223e-05\n",
      "Epoch 19/50\n",
      "23650/23650 [==============================] - 0s 6us/step - loss: 1.4864e-05\n",
      "Epoch 20/50\n",
      "23650/23650 [==============================] - 0s 9us/step - loss: 1.4503e-05\n",
      "Epoch 21/50\n",
      "23650/23650 [==============================] - 0s 9us/step - loss: 1.4152e-05\n",
      "Epoch 22/50\n",
      "23650/23650 [==============================] - 0s 6us/step - loss: 1.3811e-05\n",
      "Epoch 23/50\n",
      "23650/23650 [==============================] - 0s 5us/step - loss: 1.3477e-05\n",
      "Epoch 24/50\n",
      "23650/23650 [==============================] - 0s 4us/step - loss: 1.3133e-05\n",
      "Epoch 25/50\n",
      "23650/23650 [==============================] - 0s 4us/step - loss: 1.2810e-05\n",
      "Epoch 26/50\n",
      "23650/23650 [==============================] - 0s 5us/step - loss: 1.2497e-05\n",
      "Epoch 27/50\n",
      "23650/23650 [==============================] - 0s 6us/step - loss: 1.2193e-05\n",
      "Epoch 28/50\n",
      "23650/23650 [==============================] - 0s 6us/step - loss: 1.1889e-05\n",
      "Epoch 29/50\n",
      "23650/23650 [==============================] - 0s 5us/step - loss: 1.1593e-05\n",
      "Epoch 30/50\n",
      "23650/23650 [==============================] - 0s 4us/step - loss: 1.1298e-05\n",
      "Epoch 31/50\n",
      "23650/23650 [==============================] - ETA: 0s - loss: 1.0749e-0 - 0s 6us/step - loss: 1.1015e-05\n",
      "Epoch 32/50\n",
      "23650/23650 [==============================] - 0s 5us/step - loss: 1.0739e-05\n",
      "Epoch 33/50\n",
      "23650/23650 [==============================] - 0s 5us/step - loss: 1.0469e-05\n",
      "Epoch 34/50\n",
      "23650/23650 [==============================] - 0s 5us/step - loss: 1.0202e-05\n",
      "Epoch 35/50\n",
      "23650/23650 [==============================] - 0s 4us/step - loss: 9.9408e-06\n",
      "Epoch 36/50\n",
      "23650/23650 [==============================] - 0s 5us/step - loss: 9.6897e-06\n",
      "Epoch 37/50\n",
      "23650/23650 [==============================] - 0s 5us/step - loss: 9.4334e-06\n",
      "Epoch 38/50\n",
      "23650/23650 [==============================] - 0s 5us/step - loss: 9.1941e-06\n",
      "Epoch 39/50\n",
      "23650/23650 [==============================] - 0s 5us/step - loss: 8.9507e-06\n",
      "Epoch 40/50\n",
      "23650/23650 [==============================] - 0s 5us/step - loss: 8.7264e-06\n",
      "Epoch 41/50\n",
      "23650/23650 [==============================] - 0s 5us/step - loss: 8.5088e-06\n",
      "Epoch 42/50\n",
      "23650/23650 [==============================] - 0s 5us/step - loss: 8.2959e-06\n",
      "Epoch 43/50\n",
      "23650/23650 [==============================] - 0s 5us/step - loss: 8.0945e-06\n",
      "Epoch 44/50\n",
      "23650/23650 [==============================] - 0s 5us/step - loss: 7.8819e-06\n",
      "Epoch 45/50\n",
      "23650/23650 [==============================] - 0s 5us/step - loss: 7.6909e-06A: 0s - loss: 7.7156e-0\n",
      "Epoch 46/50\n",
      "23650/23650 [==============================] - 0s 4us/step - loss: 7.4975e-06\n",
      "Epoch 47/50\n",
      "23650/23650 [==============================] - 0s 5us/step - loss: 7.3296e-06\n",
      "Epoch 48/50\n",
      "23650/23650 [==============================] - 0s 6us/step - loss: 7.1390e-06\n",
      "Epoch 49/50\n",
      "23650/23650 [==============================] - 0s 4us/step - loss: 6.9767e-06\n",
      "Epoch 50/50\n",
      "23650/23650 [==============================] - 0s 5us/step - loss: 6.8290e-06\n"
     ]
    },
    {
     "data": {
      "text/plain": [
       "<keras.callbacks.callbacks.History at 0x1ce229d9eb8>"
      ]
     },
     "execution_count": 29,
     "metadata": {},
     "output_type": "execute_result"
    }
   ],
   "source": [
    "#建立bp模型 训练 \n",
    "from keras.models import Sequential\n",
    "from keras.layers.core import Dense, Activation\n",
    "from keras.optimizers import Adam\n",
    "model = Sequential()  #层次模型\n",
    "model.add(Dense(16,input_dim=input_size,init='uniform')) #输入层，Dense表示BP层\n",
    "model.add(Activation('relu'))  #添加激活函数\n",
    "model.add(Dense(4,init='uniform')) #中间层\n",
    "model.add(Activation('relu'))  #添加激活函数\n",
    "model.add(Dense(1))  #输出层\n",
    "model.compile(loss='mean_squared_error', optimizer='Adam') #编译模型\n",
    "model.fit(X_train, y_train, nb_epoch = 50, batch_size = 256) #训练模型nb_epoch=50次"
   ]
  },
  {
   "cell_type": "code",
   "execution_count": 30,
   "metadata": {},
   "outputs": [
    {
     "name": "stdout",
     "output_type": "stream",
     "text": [
      "Model: \"sequential_2\"\n",
      "_________________________________________________________________\n",
      "Layer (type)                 Output Shape              Param #   \n",
      "=================================================================\n",
      "dense_4 (Dense)              (None, 16)                64        \n",
      "_________________________________________________________________\n",
      "activation_3 (Activation)    (None, 16)                0         \n",
      "_________________________________________________________________\n",
      "dense_5 (Dense)              (None, 4)                 68        \n",
      "_________________________________________________________________\n",
      "activation_4 (Activation)    (None, 4)                 0         \n",
      "_________________________________________________________________\n",
      "dense_6 (Dense)              (None, 1)                 5         \n",
      "=================================================================\n",
      "Total params: 137\n",
      "Trainable params: 137\n",
      "Non-trainable params: 0\n",
      "_________________________________________________________________\n"
     ]
    }
   ],
   "source": [
    "model.summary()#模型描述"
   ]
  },
  {
   "cell_type": "code",
   "execution_count": 31,
   "metadata": {},
   "outputs": [],
   "source": [
    "#在训练集上的拟合结果\n",
    "y_train_predict=model.predict(X_train)\n",
    "y_train_predict=y_train_predict[:,0]\n",
    "y_train=y_train"
   ]
  },
  {
   "cell_type": "code",
   "execution_count": 32,
   "metadata": {},
   "outputs": [
    {
     "data": {
      "text/plain": [
       "Text(0.5, 1.0, 'Train Data')"
      ]
     },
     "execution_count": 32,
     "metadata": {},
     "output_type": "execute_result"
    },
    {
     "data": {
      "image/png": "[encoded data removed]",
      "text/plain": [
       "<Figure size 864x432 with 1 Axes>"
      ]
     },
     "metadata": {
      "needs_background": "light"
     },
     "output_type": "display_data"
    }
   ],
   "source": [
    "draw=pd.concat([pd.DataFrame(y_train),pd.DataFrame(y_train_predict)],axis=1)\n",
    "draw.iloc[100:150,0].plot(figsize=(12,6))\n",
    "draw.iloc[100:150,1].plot(figsize=(12,6))\n",
    "plt.legend(('real', 'predict'),fontsize='15')\n",
    "plt.title(\"Train Data\",fontsize='30') #添加标题\n",
    "#展示在训练集上的表现 "
   ]
  },
  {
   "cell_type": "code",
   "execution_count": 33,
   "metadata": {},
   "outputs": [],
   "source": [
    "#在测试集上的预测\n",
    "y_test_predict=model.predict(X_test)\n",
    "y_test_predict=y_test_predict[:,0]"
   ]
  },
  {
   "cell_type": "code",
   "execution_count": 34,
   "metadata": {},
   "outputs": [
    {
     "data": {
      "text/plain": [
       "Text(0.5, 1.0, 'Test Data')"
      ]
     },
     "execution_count": 34,
     "metadata": {},
     "output_type": "execute_result"
    },
    {
     "data": {
      "image/png": "[encoded data removed]",
      "text/plain": [
       "<Figure size 864x432 with 1 Axes>"
      ]
     },
     "metadata": {
      "needs_background": "light"
     },
     "output_type": "display_data"
    }
   ],
   "source": [
    "draw=pd.concat([pd.DataFrame(y_test),pd.DataFrame(y_test_predict)],axis=1);\n",
    "draw.iloc[200:250,0].plot(figsize=(12,6))\n",
    "draw.iloc[200:250,1].plot(figsize=(12,6))\n",
    "plt.legend(('real', 'predict'),loc='upper right',fontsize='15')\n",
    "plt.title(\"Test Data\",fontsize='30') #添加标题\n",
    "#展示在测试集上的表现 "
   ]
  },
  {
   "cell_type": "code",
   "execution_count": 35,
   "metadata": {},
   "outputs": [
    {
     "name": "stdout",
     "output_type": "stream",
     "text": [
      "训练集上的MAE/MSE/MAPE\n",
      "0.0015122720594528372\n",
      "6.715321538274574e-06\n",
      "0.595540765012317\n",
      "测试集上的MAE/MSE/MAPE\n",
      "0.001278273879630919\n",
      "2.6149447835062204e-06\n",
      "0.17901381364811333\n",
      "预测涨跌正确: 0.8175932977913176\n",
      "训练时间（秒）: 15.25\n"
     ]
    }
   ],
   "source": [
    "#输出结果\n",
    "from sklearn.metrics import mean_absolute_error\n",
    "from sklearn.metrics import mean_squared_error\n",
    "import math\n",
    "def mape(y_true, y_pred):\n",
    "    return np.mean(np.abs((y_pred - y_true) / y_true)) * 100\n",
    "print('训练集上的MAE/MSE/MAPE')\n",
    "print(mean_absolute_error(y_train_predict, y_train))\n",
    "print(mean_squared_error(y_train_predict, y_train) )\n",
    "print(mape(y_train_predict, y_train[:,0]) )\n",
    "print('测试集上的MAE/MSE/MAPE')\n",
    "print(mean_absolute_error(y_test_predict, y_test))\n",
    "print(mean_squared_error(y_test_predict, y_test) )\n",
    "print(mape(y_test_predict,  y_test[:,0]) )\n",
    "y_var_test=y_test[1:]-y_test[:len(y_test)-1]\n",
    "y_var_predict=y_test_predict[1:]-y_test_predict[:len(y_test_predict)-1]\n",
    "txt=np.zeros(len(y_var_test))\n",
    "for i in range(len(y_var_test-1)):\n",
    "    txt[i]=np.sign(y_var_test[i])==np.sign(y_var_predict[i])\n",
    "result=sum(txt)/len(txt)\n",
    "print('预测涨跌正确:',result)\n",
    "print('训练时间（秒）:',15.25)"
   ]
  },
  {
   "cell_type": "code",
   "execution_count": null,
   "metadata": {},
   "outputs": [],
   "source": []
  },
  {
   "cell_type": "code",
   "execution_count": null,
   "metadata": {},
   "outputs": [],
   "source": []
  },
  {
   "cell_type": "code",
   "execution_count": null,
   "metadata": {},
   "outputs": [],
   "source": []
  }
 ],
 "metadata": {
  "kernelspec": {
   "display_name": "Python 3",
   "language": "python",
   "name": "python3"
  },
  "language_info": {
   "codemirror_mode": {
    "name": "ipython",
    "version": 3
   },
   "file_extension": ".py",
   "mimetype": "text/x-python",
   "name": "python",
   "nbconvert_exporter": "python",
   "pygments_lexer": "ipython3",
   "version": "3.7.3"
  }
 },
 "nbformat": 4,
 "nbformat_minor": 2
}
