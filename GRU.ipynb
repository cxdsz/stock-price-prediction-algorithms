{
 "cells": [
  {
   "cell_type": "code",
   "execution_count": 16,
   "metadata": {},
   "outputs": [],
   "source": [
    "import numpy as np\n",
    "import matplotlib.pyplot as plt\n",
    "import pandas as pd\n",
    "from sklearn import preprocessing\n",
    "from sklearn.metrics import mean_squared_error\n",
    "from math import sqrt\n",
    "from keras.models import Sequential\n",
    "from keras.layers.core import Dense, Dropout, Activation\n",
    "from keras.layers.recurrent import GRU\n",
    "#导入必要的库"
   ]
  },
  {
   "cell_type": "code",
   "execution_count": 17,
   "metadata": {},
   "outputs": [
    {
     "data": {
      "text/html": [
       "<div>\n",
       "<style scoped>\n",
       "    .dataframe tbody tr th:only-of-type {\n",
       "        vertical-align: middle;\n",
       "    }\n",
       "\n",
       "    .dataframe tbody tr th {\n",
       "        vertical-align: top;\n",
       "    }\n",
       "\n",
       "    .dataframe thead th {\n",
       "        text-align: right;\n",
       "    }\n",
       "</style>\n",
       "<table border=\"1\" class=\"dataframe\">\n",
       "  <thead>\n",
       "    <tr style=\"text-align: right;\">\n",
       "      <th></th>\n",
       "      <th>open</th>\n",
       "      <th>low</th>\n",
       "      <th>close</th>\n",
       "      <th>high</th>\n",
       "    </tr>\n",
       "  </thead>\n",
       "  <tbody>\n",
       "    <tr>\n",
       "      <th>26272</th>\n",
       "      <td>7.1042</td>\n",
       "      <td>7.1042</td>\n",
       "      <td>7.1048</td>\n",
       "      <td>7.1055</td>\n",
       "    </tr>\n",
       "    <tr>\n",
       "      <th>26273</th>\n",
       "      <td>7.1047</td>\n",
       "      <td>7.1038</td>\n",
       "      <td>7.1038</td>\n",
       "      <td>7.1047</td>\n",
       "    </tr>\n",
       "    <tr>\n",
       "      <th>26274</th>\n",
       "      <td>7.1039</td>\n",
       "      <td>7.1039</td>\n",
       "      <td>7.1046</td>\n",
       "      <td>7.1047</td>\n",
       "    </tr>\n",
       "    <tr>\n",
       "      <th>26275</th>\n",
       "      <td>7.1048</td>\n",
       "      <td>7.1043</td>\n",
       "      <td>7.1045</td>\n",
       "      <td>7.1049</td>\n",
       "    </tr>\n",
       "    <tr>\n",
       "      <th>26276</th>\n",
       "      <td>7.1049</td>\n",
       "      <td>7.1049</td>\n",
       "      <td>7.1057</td>\n",
       "      <td>7.1057</td>\n",
       "    </tr>\n",
       "  </tbody>\n",
       "</table>\n",
       "</div>"
      ],
      "text/plain": [
       "         open     low   close    high\n",
       "26272  7.1042  7.1042  7.1048  7.1055\n",
       "26273  7.1047  7.1038  7.1038  7.1047\n",
       "26274  7.1039  7.1039  7.1046  7.1047\n",
       "26275  7.1048  7.1043  7.1045  7.1049\n",
       "26276  7.1049  7.1049  7.1057  7.1057"
      ]
     },
     "execution_count": 17,
     "metadata": {},
     "output_type": "execute_result"
    }
   ],
   "source": [
    "#读取数据\n",
    "window=1\n",
    "df1=pd.read_csv('data.csv') \n",
    "df1=df1.iloc[:,2:]\n",
    "df1.tail()"
   ]
  },
  {
   "cell_type": "code",
   "execution_count": 18,
   "metadata": {},
   "outputs": [
    {
     "name": "stdout",
     "output_type": "stream",
     "text": [
      "(26277, 3)\n",
      "(26277,)\n"
     ]
    }
   ],
   "source": [
    "#进行数据归一化\n",
    "from sklearn import preprocessing\n",
    "min_max_scaler = preprocessing.MinMaxScaler()\n",
    "df0=min_max_scaler.fit_transform(df1)\n",
    "df = pd.DataFrame(df0, columns=df1.columns)\n",
    "X=df.iloc[:,:-1]\n",
    "y=df.iloc[:,-1]\n",
    "input_size=len(df.iloc[1,:])\n",
    "print(X.shape)\n",
    "print(y.shape)"
   ]
  },
  {
   "cell_type": "code",
   "execution_count": 19,
   "metadata": {},
   "outputs": [
    {
     "name": "stderr",
     "output_type": "stream",
     "text": [
      "E:\\anoconda\\lib\\site-packages\\ipykernel_launcher.py:4: FutureWarning: Method .as_matrix will be removed in a future version. Use .values instead.\n",
      "  after removing the cwd from sys.path.\n"
     ]
    }
   ],
   "source": [
    "stock=df\n",
    "seq_len=window\n",
    "amount_of_features = len(stock.columns)#有几列\n",
    "data = stock.as_matrix() #pd.DataFrame(stock) 表格转化为矩阵\n",
    "sequence_length = seq_len + 1#序列长度5+1\n",
    "result = []\n",
    "for index in range(len(data) - sequence_length):#循环170-5次\n",
    "    result.append(data[index: index + sequence_length])#第i行到i+5\n",
    "result = np.array(result)#得到161个样本，样本形式为6天*3特征\n",
    "row = round(0.9 * result.shape[0])#划分训练集测试集\n",
    "train = result[:int(row), :]\n",
    "x_train = train[:, :-1]\n",
    "y_train = train[:, -1][:,-1]\n",
    "x_test = result[int(row):, :-1]\n",
    "y_test = result[int(row):, -1][:,-1]\n",
    "#reshape成 5天*3特征\n",
    "X_train = np.reshape(x_train, (x_train.shape[0], x_train.shape[1], amount_of_features))\n",
    "X_test = np.reshape(x_test, (x_test.shape[0], x_test.shape[1], amount_of_features))  "
   ]
  },
  {
   "cell_type": "code",
   "execution_count": 20,
   "metadata": {},
   "outputs": [
    {
     "name": "stderr",
     "output_type": "stream",
     "text": [
      "E:\\anoconda\\lib\\site-packages\\ipykernel_launcher.py:6: UserWarning: Update your `Dense` call to the Keras 2 API: `Dense(4, activation=\"relu\", kernel_initializer=\"uniform\")`\n",
      "  \n",
      "E:\\anoconda\\lib\\site-packages\\ipykernel_launcher.py:7: UserWarning: Update your `Dense` call to the Keras 2 API: `Dense(1, activation=\"relu\", kernel_initializer=\"uniform\")`\n",
      "  import sys\n",
      "E:\\anoconda\\lib\\site-packages\\ipykernel_launcher.py:9: UserWarning: The `nb_epoch` argument in `fit` has been renamed `epochs`.\n",
      "  if __name__ == '__main__':\n"
     ]
    },
    {
     "name": "stdout",
     "output_type": "stream",
     "text": [
      "Epoch 1/100\n",
      "23648/23648 [==============================] - 1s 39us/step - loss: 0.2552 - accuracy: 4.2287e-05\n",
      "Epoch 2/100\n",
      "23648/23648 [==============================] - 0s 12us/step - loss: 0.0562 - accuracy: 8.4574e-05\n",
      "Epoch 3/100\n",
      "23648/23648 [==============================] - 0s 13us/step - loss: 0.0147 - accuracy: 8.4574e-05\n",
      "Epoch 4/100\n",
      "23648/23648 [==============================] - 0s 14us/step - loss: 0.0094 - accuracy: 8.4574e-05\n",
      "Epoch 5/100\n",
      "23648/23648 [==============================] - 0s 12us/step - loss: 0.0045 - accuracy: 8.4574e-05 0s - loss: 0.0062 - accuracy: 0.\n",
      "Epoch 6/100\n",
      "23648/23648 [==============================] - 0s 10us/step - loss: 9.5441e-04 - accuracy: 8.4574e-05\n",
      "Epoch 7/100\n",
      "23648/23648 [==============================] - 0s 11us/step - loss: 5.3730e-04 - accuracy: 8.4574e-05\n",
      "Epoch 8/100\n",
      "23648/23648 [==============================] - 0s 13us/step - loss: 4.4138e-04 - accuracy: 8.4574e-05\n",
      "Epoch 9/100\n",
      "23648/23648 [==============================] - 0s 13us/step - loss: 3.8575e-04 - accuracy: 8.4574e-05\n",
      "Epoch 10/100\n",
      "23648/23648 [==============================] - 0s 10us/step - loss: 3.5732e-04 - accuracy: 8.4574e-05\n",
      "Epoch 11/100\n",
      "23648/23648 [==============================] - 0s 10us/step - loss: 3.4329e-04 - accuracy: 8.4574e-05\n",
      "Epoch 12/100\n",
      "23648/23648 [==============================] - 0s 12us/step - loss: 3.1469e-04 - accuracy: 8.4574e-05\n",
      "Epoch 13/100\n",
      "23648/23648 [==============================] - 0s 11us/step - loss: 3.1854e-04 - accuracy: 8.4574e-05\n",
      "Epoch 14/100\n",
      "23648/23648 [==============================] - 0s 10us/step - loss: 3.1937e-04 - accuracy: 8.4574e-05\n",
      "Epoch 15/100\n",
      "23648/23648 [==============================] - 0s 12us/step - loss: 2.8878e-04 - accuracy: 8.4574e-05\n",
      "Epoch 16/100\n",
      "23648/23648 [==============================] - 0s 12us/step - loss: 3.0604e-04 - accuracy: 8.4574e-05\n",
      "Epoch 17/100\n",
      "23648/23648 [==============================] - 0s 12us/step - loss: 3.1197e-04 - accuracy: 8.4574e-05\n",
      "Epoch 18/100\n",
      "23648/23648 [==============================] - 0s 13us/step - loss: 3.0265e-04 - accuracy: 8.4574e-05\n",
      "Epoch 19/100\n",
      "23648/23648 [==============================] - 0s 10us/step - loss: 2.9546e-04 - accuracy: 8.4574e-05\n",
      "Epoch 20/100\n",
      "23648/23648 [==============================] - 0s 10us/step - loss: 2.9994e-04 - accuracy: 8.4574e-05\n",
      "Epoch 21/100\n",
      "23648/23648 [==============================] - 0s 12us/step - loss: 2.9101e-04 - accuracy: 8.4574e-05 0s - loss: 2.8813e-04 - accuracy: 1.26\n",
      "Epoch 22/100\n",
      "23648/23648 [==============================] - 0s 14us/step - loss: 2.8414e-04 - accuracy: 8.4574e-05\n",
      "Epoch 23/100\n",
      "23648/23648 [==============================] - 0s 13us/step - loss: 2.7184e-04 - accuracy: 8.4574e-05\n",
      "Epoch 24/100\n",
      "23648/23648 [==============================] - 0s 11us/step - loss: 2.7283e-04 - accuracy: 8.4574e-05\n",
      "Epoch 25/100\n",
      "23648/23648 [==============================] - 0s 13us/step - loss: 2.8888e-04 - accuracy: 8.4574e-05\n",
      "Epoch 26/100\n",
      "23648/23648 [==============================] - 0s 13us/step - loss: 2.7464e-04 - accuracy: 8.4574e-05\n",
      "Epoch 27/100\n",
      "23648/23648 [==============================] - 0s 11us/step - loss: 2.6632e-04 - accuracy: 8.4574e-05\n",
      "Epoch 28/100\n",
      "23648/23648 [==============================] - 0s 11us/step - loss: 2.7800e-04 - accuracy: 8.4574e-05\n",
      "Epoch 29/100\n",
      "23648/23648 [==============================] - 0s 10us/step - loss: 2.6755e-04 - accuracy: 8.4574e-05\n",
      "Epoch 30/100\n",
      "23648/23648 [==============================] - 0s 12us/step - loss: 2.6932e-04 - accuracy: 8.4574e-05\n",
      "Epoch 31/100\n",
      "23648/23648 [==============================] - 0s 14us/step - loss: 2.6967e-04 - accuracy: 8.4574e-05\n",
      "Epoch 32/100\n",
      "23648/23648 [==============================] - 0s 12us/step - loss: 2.7188e-04 - accuracy: 8.4574e-05\n",
      "Epoch 33/100\n",
      "23648/23648 [==============================] - 0s 13us/step - loss: 2.7298e-04 - accuracy: 8.4574e-05\n",
      "Epoch 34/100\n",
      "23648/23648 [==============================] - 0s 12us/step - loss: 2.5851e-04 - accuracy: 8.4574e-05\n",
      "Epoch 35/100\n",
      "23648/23648 [==============================] - 0s 12us/step - loss: 2.6207e-04 - accuracy: 8.4574e-05 0s - loss: 2.2908e-04 - accuracy: \n",
      "Epoch 36/100\n",
      "23648/23648 [==============================] - 0s 12us/step - loss: 2.6163e-04 - accuracy: 8.4574e-05\n",
      "Epoch 37/100\n",
      "23648/23648 [==============================] - 0s 11us/step - loss: 2.4929e-04 - accuracy: 8.4574e-05\n",
      "Epoch 38/100\n",
      "23648/23648 [==============================] - 0s 11us/step - loss: 2.3779e-04 - accuracy: 8.4574e-05\n",
      "Epoch 39/100\n",
      "23648/23648 [==============================] - 0s 12us/step - loss: 2.5152e-04 - accuracy: 8.4574e-05\n",
      "Epoch 40/100\n",
      "23648/23648 [==============================] - 0s 13us/step - loss: 2.3383e-04 - accuracy: 8.4574e-05\n",
      "Epoch 41/100\n",
      "23648/23648 [==============================] - 0s 14us/step - loss: 2.4135e-04 - accuracy: 8.4574e-05\n",
      "Epoch 42/100\n",
      "23648/23648 [==============================] - 0s 12us/step - loss: 2.2985e-04 - accuracy: 8.4574e-05\n",
      "Epoch 43/100\n",
      "23648/23648 [==============================] - 0s 11us/step - loss: 2.2453e-04 - accuracy: 8.4574e-05\n",
      "Epoch 44/100\n",
      "23648/23648 [==============================] - 0s 11us/step - loss: 2.2812e-04 - accuracy: 8.4574e-05\n",
      "Epoch 45/100\n",
      "23648/23648 [==============================] - 0s 11us/step - loss: 2.1634e-04 - accuracy: 8.4574e-05\n",
      "Epoch 46/100\n",
      "23648/23648 [==============================] - ETA: 0s - loss: 2.1931e-04 - accuracy: 1.0016e- - 0s 11us/step - loss: 2.2051e-04 - accuracy: 8.4574e-05\n",
      "Epoch 47/100\n",
      "23648/23648 [==============================] - 0s 10us/step - loss: 2.1297e-04 - accuracy: 8.4574e-05\n",
      "Epoch 48/100\n",
      "23648/23648 [==============================] - 0s 9us/step - loss: 2.0553e-04 - accuracy: 8.4574e-05\n",
      "Epoch 49/100\n",
      "23648/23648 [==============================] - 0s 9us/step - loss: 2.1313e-04 - accuracy: 8.4574e-05\n",
      "Epoch 50/100\n",
      "23648/23648 [==============================] - 0s 9us/step - loss: 2.0731e-04 - accuracy: 8.4574e-05\n",
      "Epoch 51/100\n",
      "23648/23648 [==============================] - 0s 8us/step - loss: 1.9549e-04 - accuracy: 8.4574e-05\n",
      "Epoch 52/100\n",
      "23648/23648 [==============================] - 0s 9us/step - loss: 1.8356e-04 - accuracy: 8.4574e-05\n",
      "Epoch 53/100\n",
      "23648/23648 [==============================] - 0s 9us/step - loss: 1.8788e-04 - accuracy: 8.4574e-05\n",
      "Epoch 54/100\n",
      "23648/23648 [==============================] - 0s 9us/step - loss: 1.8843e-04 - accuracy: 8.4574e-05\n",
      "Epoch 55/100\n",
      "23648/23648 [==============================] - 0s 9us/step - loss: 1.7117e-04 - accuracy: 8.4574e-05\n",
      "Epoch 56/100\n",
      "23648/23648 [==============================] - 0s 9us/step - loss: 1.7080e-04 - accuracy: 8.4574e-05\n",
      "Epoch 57/100\n",
      "23648/23648 [==============================] - 0s 9us/step - loss: 1.7036e-04 - accuracy: 8.4574e-05\n",
      "Epoch 58/100\n",
      "23648/23648 [==============================] - 0s 9us/step - loss: 1.6619e-04 - accuracy: 8.4574e-05\n",
      "Epoch 59/100\n",
      "23648/23648 [==============================] - 0s 8us/step - loss: 1.5537e-04 - accuracy: 8.4574e-05\n",
      "Epoch 60/100\n",
      "23648/23648 [==============================] - 0s 8us/step - loss: 1.4519e-04 - accuracy: 8.4574e-05\n",
      "Epoch 61/100\n",
      "23648/23648 [==============================] - 0s 9us/step - loss: 1.3965e-04 - accuracy: 8.4574e-05\n",
      "Epoch 62/100\n",
      "23648/23648 [==============================] - 0s 12us/step - loss: 1.4148e-04 - accuracy: 8.4574e-05\n",
      "Epoch 63/100\n",
      "23648/23648 [==============================] - 0s 11us/step - loss: 1.4913e-04 - accuracy: 8.4574e-05\n",
      "Epoch 64/100\n",
      "23648/23648 [==============================] - 0s 11us/step - loss: 1.3396e-04 - accuracy: 8.4574e-05\n",
      "Epoch 65/100\n",
      "23648/23648 [==============================] - 0s 12us/step - loss: 1.2838e-04 - accuracy: 8.4574e-05\n",
      "Epoch 66/100\n",
      "23648/23648 [==============================] - 0s 12us/step - loss: 1.3349e-04 - accuracy: 8.4574e-05\n",
      "Epoch 67/100\n",
      "23648/23648 [==============================] - 0s 10us/step - loss: 1.2780e-04 - accuracy: 8.4574e-05\n",
      "Epoch 68/100\n",
      "23648/23648 [==============================] - 0s 13us/step - loss: 1.2643e-04 - accuracy: 8.4574e-05\n",
      "Epoch 69/100\n",
      "23648/23648 [==============================] - 0s 12us/step - loss: 1.2055e-04 - accuracy: 8.4574e-05\n",
      "Epoch 70/100\n",
      "23648/23648 [==============================] - 0s 12us/step - loss: 1.1520e-04 - accuracy: 8.4574e-05\n",
      "Epoch 71/100\n"
     ]
    },
    {
     "name": "stdout",
     "output_type": "stream",
     "text": [
      "23648/23648 [==============================] - 0s 11us/step - loss: 1.1372e-04 - accuracy: 8.4574e-05\n",
      "Epoch 72/100\n",
      "23648/23648 [==============================] - 0s 20us/step - loss: 1.1922e-04 - accuracy: 8.4574e-05\n",
      "Epoch 73/100\n",
      "23648/23648 [==============================] - 0s 10us/step - loss: 1.1725e-04 - accuracy: 8.4574e-05\n",
      "Epoch 74/100\n",
      "23648/23648 [==============================] - 0s 12us/step - loss: 1.1301e-04 - accuracy: 8.4574e-05\n",
      "Epoch 75/100\n",
      "23648/23648 [==============================] - 0s 11us/step - loss: 1.1052e-04 - accuracy: 8.4574e-05\n",
      "Epoch 76/100\n",
      "23648/23648 [==============================] - 0s 13us/step - loss: 1.0678e-04 - accuracy: 8.4574e-05\n",
      "Epoch 77/100\n",
      "23648/23648 [==============================] - 0s 14us/step - loss: 1.0860e-04 - accuracy: 8.4574e-05\n",
      "Epoch 78/100\n",
      "23648/23648 [==============================] - 0s 10us/step - loss: 1.0624e-04 - accuracy: 8.4574e-05\n",
      "Epoch 79/100\n",
      "23648/23648 [==============================] - 0s 14us/step - loss: 1.0625e-04 - accuracy: 8.4574e-05 0s - loss: 1.0549e-04 - accuracy: 1.\n",
      "Epoch 80/100\n",
      "23648/23648 [==============================] - 0s 11us/step - loss: 9.7872e-05 - accuracy: 8.4574e-05\n",
      "Epoch 81/100\n",
      "23648/23648 [==============================] - 0s 11us/step - loss: 1.0544e-04 - accuracy: 8.4574e-05\n",
      "Epoch 82/100\n",
      "23648/23648 [==============================] - 0s 10us/step - loss: 1.0589e-04 - accuracy: 8.4574e-05\n",
      "Epoch 83/100\n",
      "23648/23648 [==============================] - 0s 12us/step - loss: 1.0373e-04 - accuracy: 8.4574e-05\n",
      "Epoch 84/100\n",
      "23648/23648 [==============================] - 0s 12us/step - loss: 9.4104e-05 - accuracy: 8.4574e-05\n",
      "Epoch 85/100\n",
      "23648/23648 [==============================] - 0s 11us/step - loss: 1.0200e-04 - accuracy: 8.4574e-05\n",
      "Epoch 86/100\n",
      "23648/23648 [==============================] - 0s 11us/step - loss: 9.5021e-05 - accuracy: 8.4574e-05\n",
      "Epoch 87/100\n",
      "23648/23648 [==============================] - 0s 9us/step - loss: 9.6409e-05 - accuracy: 8.4574e-05\n",
      "Epoch 88/100\n",
      "23648/23648 [==============================] - 0s 8us/step - loss: 9.9617e-05 - accuracy: 8.4574e-05\n",
      "Epoch 89/100\n",
      "23648/23648 [==============================] - ETA: 0s - loss: 9.9040e-05 - accuracy: 8.8778e- - 0s 10us/step - loss: 9.9180e-05 - accuracy: 8.4574e-05\n",
      "Epoch 90/100\n",
      "23648/23648 [==============================] - 0s 11us/step - loss: 9.9796e-05 - accuracy: 8.4574e-05\n",
      "Epoch 91/100\n",
      "23648/23648 [==============================] - 0s 10us/step - loss: 9.6348e-05 - accuracy: 8.4574e-05\n",
      "Epoch 92/100\n",
      "23648/23648 [==============================] - 0s 8us/step - loss: 1.0034e-04 - accuracy: 8.4574e-05\n",
      "Epoch 93/100\n",
      "23648/23648 [==============================] - 0s 8us/step - loss: 9.7983e-05 - accuracy: 8.4574e-05\n",
      "Epoch 94/100\n",
      "23648/23648 [==============================] - 0s 9us/step - loss: 9.7869e-05 - accuracy: 8.4574e-05\n",
      "Epoch 95/100\n",
      "23648/23648 [==============================] - 0s 10us/step - loss: 9.7980e-05 - accuracy: 8.4574e-05\n",
      "Epoch 96/100\n",
      "23648/23648 [==============================] - ETA: 0s - loss: 9.4524e-05 - accuracy: 8.6806e- - 0s 9us/step - loss: 9.4141e-05 - accuracy: 8.4574e-05\n",
      "Epoch 97/100\n",
      "23648/23648 [==============================] - 0s 9us/step - loss: 9.7945e-05 - accuracy: 8.4574e-05\n",
      "Epoch 98/100\n",
      "23648/23648 [==============================] - 0s 9us/step - loss: 9.5559e-05 - accuracy: 8.4574e-05\n",
      "Epoch 99/100\n",
      "23648/23648 [==============================] - 0s 9us/step - loss: 9.8662e-05 - accuracy: 8.4574e-05\n",
      "Epoch 100/100\n",
      "23648/23648 [==============================] - 0s 12us/step - loss: 9.3056e-05 - accuracy: 8.4574e-05\n"
     ]
    },
    {
     "data": {
      "text/plain": [
       "<keras.callbacks.callbacks.History at 0x167bca26ac8>"
      ]
     },
     "execution_count": 20,
     "metadata": {},
     "output_type": "execute_result"
    }
   ],
   "source": [
    "#建立GRU模型 训练\n",
    "d = 0.01\n",
    "model = Sequential()\n",
    "model.add(GRU(8, input_shape=(window, input_size), return_sequences=False))\n",
    "model.add(Dropout(d))\n",
    "model.add(Dense(4,init='uniform',activation='relu'))        \n",
    "model.add(Dense(1,init='uniform',activation='relu'))\n",
    "model.compile(loss='mse',optimizer='adam',metrics=['accuracy'])\n",
    "model.fit(X_train, y_train, nb_epoch = 100, batch_size = 256) #训练模型1000次"
   ]
  },
  {
   "cell_type": "code",
   "execution_count": 21,
   "metadata": {},
   "outputs": [
    {
     "name": "stdout",
     "output_type": "stream",
     "text": [
      "Model: \"sequential_2\"\n",
      "_________________________________________________________________\n",
      "Layer (type)                 Output Shape              Param #   \n",
      "=================================================================\n",
      "gru_2 (GRU)                  (None, 8)                 312       \n",
      "_________________________________________________________________\n",
      "dropout_2 (Dropout)          (None, 8)                 0         \n",
      "_________________________________________________________________\n",
      "dense_3 (Dense)              (None, 4)                 36        \n",
      "_________________________________________________________________\n",
      "dense_4 (Dense)              (None, 1)                 5         \n",
      "=================================================================\n",
      "Total params: 353\n",
      "Trainable params: 353\n",
      "Non-trainable params: 0\n",
      "_________________________________________________________________\n"
     ]
    }
   ],
   "source": [
    "model.summary()#模型描述"
   ]
  },
  {
   "cell_type": "code",
   "execution_count": 22,
   "metadata": {},
   "outputs": [],
   "source": [
    "#在训练集上的拟合结果\n",
    "y_train_predict=model.predict(X_train)\n",
    "y_train_predict=y_train_predict[:,0]"
   ]
  },
  {
   "cell_type": "code",
   "execution_count": 23,
   "metadata": {},
   "outputs": [
    {
     "data": {
      "text/plain": [
       "Text(0.5, 1.0, 'Train Data')"
      ]
     },
     "execution_count": 23,
     "metadata": {},
     "output_type": "execute_result"
    },
    {
     "data": {
      "image/png": "[encoded data removed]",
      "text/plain": [
       "<Figure size 864x432 with 1 Axes>"
      ]
     },
     "metadata": {
      "needs_background": "light"
     },
     "output_type": "display_data"
    }
   ],
   "source": [
    "draw=pd.concat([pd.DataFrame(y_train),pd.DataFrame(y_train_predict)],axis=1)\n",
    "draw.iloc[100:150,0].plot(figsize=(12,6))\n",
    "draw.iloc[100:150,1].plot(figsize=(12,6))\n",
    "plt.legend(('real', 'predict'),fontsize='15')\n",
    "plt.title(\"Train Data\",fontsize='30') #添加标题\n",
    "#展示在训练集上的表现 "
   ]
  },
  {
   "cell_type": "code",
   "execution_count": 24,
   "metadata": {},
   "outputs": [],
   "source": [
    "#在测试集上的预测\n",
    "y_test_predict=model.predict(X_test)\n",
    "y_test_predict=y_test_predict[:,0]"
   ]
  },
  {
   "cell_type": "code",
   "execution_count": 25,
   "metadata": {},
   "outputs": [
    {
     "data": {
      "text/plain": [
       "Text(0.5, 1.0, 'Test Data')"
      ]
     },
     "execution_count": 25,
     "metadata": {},
     "output_type": "execute_result"
    },
    {
     "data": {
      "image/png": "[encoded data removed]",
      "text/plain": [
       "<Figure size 864x432 with 1 Axes>"
      ]
     },
     "metadata": {
      "needs_background": "light"
     },
     "output_type": "display_data"
    }
   ],
   "source": [
    "draw=pd.concat([pd.DataFrame(y_test),pd.DataFrame(y_test_predict)],axis=1);\n",
    "draw.iloc[200:250,0].plot(figsize=(12,6))\n",
    "draw.iloc[200:250,1].plot(figsize=(12,6))\n",
    "plt.legend(('real', 'predict'),loc='upper right',fontsize='15')\n",
    "plt.title(\"Test Data\",fontsize='30') #添加标题\n",
    "#展示在测试集上的表现 "
   ]
  },
  {
   "cell_type": "code",
   "execution_count": 26,
   "metadata": {},
   "outputs": [
    {
     "name": "stdout",
     "output_type": "stream",
     "text": [
      "训练集上的MAE/MSE/MAPE\n",
      "0.0029143000467274113\n",
      "2.7277523085938042e-05\n",
      "0.9492342254834514\n",
      "测试集上的MAE/MSE/MAPE\n",
      "0.002388691778657456\n",
      "1.758867162287148e-05\n",
      "0.3361045449386663\n",
      "预测涨跌正确: 0.48743335872048743\n",
      "训练时间（秒）: 145.25\n"
     ]
    }
   ],
   "source": [
    "#输出结果\n",
    "from sklearn.metrics import mean_absolute_error\n",
    "from sklearn.metrics import mean_squared_error\n",
    "import math\n",
    "def mape(y_true, y_pred):\n",
    "    return np.mean(np.abs((y_pred - y_true) / y_true)) * 100\n",
    "print('训练集上的MAE/MSE/MAPE')\n",
    "print(mean_absolute_error(y_train_predict, y_train))\n",
    "print(mean_squared_error(y_train_predict, y_train) )\n",
    "print(mape(y_train_predict, y_train) )\n",
    "print('测试集上的MAE/MSE/MAPE')\n",
    "print(mean_absolute_error(y_test_predict, y_test))\n",
    "print(mean_squared_error(y_test_predict, y_test) )\n",
    "print(mape(y_test_predict,  y_test) )\n",
    "y_var_test=y_test[1:]-y_test[:len(y_test)-1]\n",
    "y_var_predict=y_test_predict[1:]-y_test_predict[:len(y_test_predict)-1]\n",
    "txt=np.zeros(len(y_var_test))\n",
    "for i in range(len(y_var_test-1)):\n",
    "    txt[i]=np.sign(y_var_test[i])==np.sign(y_var_predict[i])\n",
    "result=sum(txt)/len(txt)\n",
    "print('预测涨跌正确:',result)\n",
    "print('训练时间（秒）:',145.25)"
   ]
  },
  {
   "cell_type": "code",
   "execution_count": null,
   "metadata": {},
   "outputs": [],
   "source": []
  },
  {
   "cell_type": "code",
   "execution_count": null,
   "metadata": {},
   "outputs": [],
   "source": []
  },
  {
   "cell_type": "code",
   "execution_count": null,
   "metadata": {},
   "outputs": [],
   "source": []
  }
 ],
 "metadata": {
  "kernelspec": {
   "display_name": "Python 3",
   "language": "python",
   "name": "python3"
  },
  "language_info": {
   "codemirror_mode": {
    "name": "ipython",
    "version": 3
   },
   "file_extension": ".py",
   "mimetype": "text/x-python",
   "name": "python",
   "nbconvert_exporter": "python",
   "pygments_lexer": "ipython3",
   "version": "3.7.3"
  }
 },
 "nbformat": 4,
 "nbformat_minor": 2
}
